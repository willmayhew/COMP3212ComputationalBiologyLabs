{
 "cells": [
  {
   "cell_type": "markdown",
   "metadata": {},
   "source": [
    "# Lab 2"
   ]
  },
  {
   "cell_type": "code",
   "execution_count": 105,
   "metadata": {},
   "outputs": [],
   "source": [
    "import numpy as np"
   ]
  },
  {
   "cell_type": "markdown",
   "metadata": {},
   "source": [
    "## Part 1\n",
    "\n",
    "• Write a program to implement Needleman-Wunsch for proteins\n",
    "\n",
    "• Check that it is working using HEAGAWGHEE versus PAWHEAE\n",
    "\n",
    "• Compare to slide 60 in Lecture 09 - Sequence matching.\n",
    "\n",
    "• Match the protein sequences using your implementation\n",
    "    SALPQPTTPVSSFTSGSMLGRTDTALTNTYSAL with PSPTMEAVTSVEASTASHPHSTSSYFATTYYHLY"
   ]
  },
  {
   "cell_type": "code",
   "execution_count": 106,
   "metadata": {},
   "outputs": [],
   "source": [
    "blosum50 = np.genfromtxt(\"blosum50.txt\", dtype=int)\n",
    "\n",
    "def blosum_lookup(prot1,prot2):\n",
    "  amino_acids = dict(zip(['-','A','R','N','D','C','Q','E','G','H','I','L','K','M','F','P','S','T','W','Y','V'], [i for i in range(len(blosum50))]))\n",
    "  return blosum50[amino_acids[prot1], amino_acids[prot2]]"
   ]
  },
  {
   "cell_type": "code",
   "execution_count": 110,
   "metadata": {},
   "outputs": [],
   "source": [
    "def needleman_wunsch(str1, str2):\n",
    "    cost = -8\n",
    "    n = len(str1)\n",
    "    m = len(str2)\n",
    "    score_matrix = np.zeros((n+1,m+1))\n",
    "    direction_matrix = np.zeros((n+1,m+1))\n",
    "\n",
    "    # 1 - mismatch (vertical)\n",
    "    # 2 - indel (horizontal)\n",
    "    # 3 - match (diagonal)\n",
    "\n",
    "    for i in range(1, n+1):\n",
    "        score_matrix[i,0] = score_matrix[i-1,0] + cost\n",
    "        direction_matrix[i,0] = 1\n",
    "    for j in range(1, m+1):\n",
    "        score_matrix[0,j] = score_matrix[0,j-1] + cost\n",
    "        direction_matrix[0,j] = 2\n",
    "\n",
    "    for i in range(1, n+1):\n",
    "        for j in range(1, m+1):\n",
    "            blosumScore = blosum_lookup(str1[i-1], str2[j-1])\n",
    "            match = score_matrix[i-1,j-1] + blosumScore\n",
    "            mismatch = score_matrix[i-1,j] + cost\n",
    "            indel = score_matrix[i,j-1] + cost\n",
    "            \n",
    "            score = max(match, mismatch, indel)\n",
    "            score_matrix[i,j] = score\n",
    "\n",
    "            if score == match:\n",
    "                direction_matrix[i,j] = 3\n",
    "            elif score == mismatch:\n",
    "                direction_matrix[i,j] = 1\n",
    "            else:\n",
    "                direction_matrix[i,j] = 2\n",
    "\n",
    "    print(score_matrix)\n",
    "    print(direction_matrix)\n",
    "\n",
    "    alignment1 = ''\n",
    "    alignment2 = ''\n",
    "\n",
    "    while n > 0 or m > 0:\n",
    "        if direction_matrix[n,m] == 3:\n",
    "            alignment1 = str1[n-1] + alignment1\n",
    "            alignment2 = str2[m-1] + alignment2\n",
    "            n = n - 1\n",
    "            m = m - 1\n",
    "        elif direction_matrix[n,m] == 2:\n",
    "            alignment1 = '-' + alignment1\n",
    "            alignment2 = str2[m-1] + alignment2\n",
    "            m = m - 1\n",
    "        else:\n",
    "            alignment1 = str1[n-1] + alignment1\n",
    "            alignment2 = '-' + alignment2\n",
    "            n = n - 1\n",
    "\n",
    "    print(alignment1)\n",
    "    print(alignment2)"
   ]
  },
  {
   "cell_type": "code",
   "execution_count": 108,
   "metadata": {},
   "outputs": [
    {
     "name": "stdout",
     "output_type": "stream",
     "text": [
      "[[  0.  -8. -16. -24. -32. -40. -48. -56. -64. -72. -80.]\n",
      " [ -8.  -2.  -9. -17. -25. -33. -41. -49. -57. -65. -73.]\n",
      " [-16. -10.  -3.  -4. -12. -20. -28. -36. -44. -52. -60.]\n",
      " [-24. -18. -11.  -6.  -7. -15.  -5. -13. -21. -29. -37.]\n",
      " [-32. -14. -18. -13.  -8.  -9. -13.  -7.  -3. -11. -19.]\n",
      " [-40. -22.  -8. -16. -16.  -9. -12. -15.  -7.   3.  -5.]\n",
      " [-48. -30. -16.  -3. -11. -11. -12. -12. -15.  -5.   2.]\n",
      " [-56. -38. -24. -11.  -6. -12. -14. -15. -12.  -9.   1.]]\n",
      "[[0. 2. 2. 2. 2. 2. 2. 2. 2. 2. 2.]\n",
      " [1. 3. 3. 3. 2. 3. 2. 2. 2. 3. 3.]\n",
      " [1. 3. 3. 3. 2. 3. 2. 2. 2. 2. 2.]\n",
      " [1. 1. 1. 3. 3. 3. 3. 2. 2. 2. 2.]\n",
      " [1. 3. 3. 3. 3. 3. 1. 3. 3. 2. 2.]\n",
      " [1. 1. 3. 2. 3. 3. 3. 1. 3. 3. 3.]\n",
      " [1. 1. 1. 3. 2. 3. 3. 3. 1. 1. 3.]\n",
      " [1. 1. 3. 1. 3. 3. 3. 3. 3. 3. 3.]]\n",
      "--P-AW-HEAE\n",
      "HEAGAWGHE-E\n"
     ]
    }
   ],
   "source": [
    "needleman_wunsch(\"PAWHEAE\",\"HEAGAWGHEE\")"
   ]
  },
  {
   "cell_type": "code",
   "execution_count": 109,
   "metadata": {},
   "outputs": [
    {
     "name": "stdout",
     "output_type": "stream",
     "text": [
      "[[   0.   -8.  -16. ... -256. -264. -272.]\n",
      " [  -8.   -1.   -3. ... -243. -251. -259.]\n",
      " [ -16.   -9.    0. ... -230. -238. -246.]\n",
      " ...\n",
      " [-248. -230. -217. ...    5.   -3.  -11.]\n",
      " [-256. -238. -225. ...   10.    3.   -5.]\n",
      " [-264. -246. -233. ...    2.   15.    7.]]\n",
      "[[0. 2. 2. ... 2. 2. 2.]\n",
      " [1. 3. 3. ... 2. 2. 2.]\n",
      " [1. 3. 3. ... 2. 2. 2.]\n",
      " ...\n",
      " [1. 1. 3. ... 3. 2. 2.]\n",
      " [1. 1. 1. ... 3. 3. 3.]\n",
      " [1. 1. 1. ... 1. 3. 2.]]\n",
      "-SALPQPTTPVSSFTSGSMLGRTDTALTNTYSAL-\n",
      "PSPTMEAVTSVEA-STASHPHSTSSYFATTYYHLY\n"
     ]
    }
   ],
   "source": [
    "needleman_wunsch(\"SALPQPTTPVSSFTSGSMLGRTDTALTNTYSAL\", \"PSPTMEAVTSVEASTASHPHSTSSYFATTYYHLY\")"
   ]
  }
 ],
 "metadata": {
  "kernelspec": {
   "display_name": "base",
   "language": "python",
   "name": "python3"
  },
  "language_info": {
   "codemirror_mode": {
    "name": "ipython",
    "version": 3
   },
   "file_extension": ".py",
   "mimetype": "text/x-python",
   "name": "python",
   "nbconvert_exporter": "python",
   "pygments_lexer": "ipython3",
   "version": "3.11.5"
  }
 },
 "nbformat": 4,
 "nbformat_minor": 2
}
